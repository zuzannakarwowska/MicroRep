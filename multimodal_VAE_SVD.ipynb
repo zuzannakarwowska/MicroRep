{
 "cells": [
  {
   "cell_type": "code",
   "execution_count": 3,
   "id": "3d551db1-fcdd-4dae-a8ef-20e4ba8e7dd0",
   "metadata": {},
   "outputs": [
    {
     "name": "stderr",
     "output_type": "stream",
     "text": [
      "/Users/zkarwowska/anaconda3/envs/pytorch_env/lib/python3.6/site-packages/tqdm/auto.py:22: TqdmWarning: IProgress not found. Please update jupyter and ipywidgets. See https://ipywidgets.readthedocs.io/en/stable/user_install.html\n",
      "  from .autonotebook import tqdm as notebook_tqdm\n"
     ]
    }
   ],
   "source": [
    "import numpy as np\n",
    "import pandas as pd\n",
    "import matplotlib.pyplot as plt\n",
    "import seaborn as sns\n",
    "from functools import partial\n",
    "import torch\n",
    "from torch import nn\n",
    "import torch.nn.functional as F\n",
    "from typing import Optional, Tuple\n",
    "import torch.optim as optim\n",
    "from sklearn.model_selection import train_test_split\n",
    "from sklearn.preprocessing import StandardScaler, MinMaxScaler\n",
    "from torch.utils.data import TensorDataset\n",
    "from scipy.spatial.distance import pdist, squareform\n",
    "from skbio.stats.ordination import pcoa    \n",
    "\n",
    "from sklearn.metrics import mean_squared_error, mean_absolute_percentage_error\n",
    "from torchmetrics.regression import MeanSquaredError, MeanAbsolutePercentageError\n",
    "\n",
    "import pandas as pd\n",
    "import skbio\n",
    "from skbio import TreeNode\n",
    "from io import StringIO\n",
    "from ete3 import Tree\n",
    "from skbio import diversity \n",
    "from skbio.diversity.beta import unweighted_unifrac, weighted_unifrac\n",
    "from scipy.spatial.distance import braycurtis\n",
    "import warnings\n",
    "from collections import Counter\n",
    "from torch.utils.data import TensorDataset\n",
    "from torch.utils.data import Dataset, DataLoader\n",
    "from torch.distributions.normal import Normal\n",
    "import pytorch_lightning as pl\n",
    "from io import StringIO\n",
    "from ete3 import Tree\n",
    "import phylodm\n",
    "from ray import tune\n",
    "from ray.tune import CLIReporter\n",
    "from ray.tune.schedulers import ASHAScheduler\n",
    "from ray import train, tune\n",
    "from ray.tune import ResultGrid\n",
    "from scipy.spatial import procrustes\n",
    "from geomloss import SamplesLoss\n",
    "\n",
    "from downstream_model import MultiTaskModel\n",
    "\n",
    "#https://pyimagesearch.com/2023/10/02/a-deep-dive-into-variational-autoencoders-with-pytorch/\n",
    "#https://github.com/Jackson-Kang/Pytorch-VAE-tutorial/blob/master/01_Variational_AutoEncoder.ipynb\n",
    "#https://hunterheidenreich.com/posts/modern-variational-autoencoder-in-pytorch/"
   ]
  },
  {
   "cell_type": "code",
   "execution_count": 4,
   "id": "d10fa089-83a0-4cde-8502-c2eb646b0b05",
   "metadata": {},
   "outputs": [
    {
     "name": "stdout",
     "output_type": "stream",
     "text": [
      "/Users/zkarwowska/TomaszLab Dropbox/Zuzanna Karwowsk/My Mac (zkarwowska’s MacBook Pro)/Desktop/microbiome_gpt\n"
     ]
    }
   ],
   "source": [
    "%cd .."
   ]
  },
  {
   "cell_type": "code",
   "execution_count": 5,
   "id": "6015e00d-8d7c-40a7-ae37-e861f70427ac",
   "metadata": {},
   "outputs": [],
   "source": [
    "DEVICE = (\n",
    "    \"cuda\"\n",
    "    if torch.cuda.is_available()\n",
    "    else \"cpu\"\n",
    ")"
   ]
  },
  {
   "cell_type": "code",
   "execution_count": 6,
   "id": "ed5d5aaa-98ba-46d2-a06f-bab9fb2a08d0",
   "metadata": {},
   "outputs": [],
   "source": [
    "pathways1 = pd.read_csv('inputs/AsnicarF_2021_pathways.csv', index_col= [0], low_memory=False).iloc[:, 2:].sort_index()\n",
    "pathways2 = pd.read_csv('inputs/VilaAV_2018_pathways.csv', index_col= [0], low_memory=False).iloc[:, 2:].sort_index()\n",
    "pathways = pd.concat([pathways1, pathways2], axis=0)\n",
    "\n",
    "taxonomy = pd.read_csv('inputs/taxonomy.csv', index_col= [0], low_memory=False).fillna(0).sort_index()\n",
    "taxonomy = taxonomy[taxonomy.index.isin(pathways.index)]\n",
    "\n",
    "metadata = pd.read_csv('inputs/metadata.csv', index_col= [0], low_memory=False).sort_index()\n",
    "metadata = metadata[metadata['sample_id'].isin(taxonomy.index)]\n",
    "\n",
    "metadata['SICK'] = np.where(metadata.disease == 'healthy', 0, 1)"
   ]
  },
  {
   "cell_type": "code",
   "execution_count": 7,
   "id": "9f52a77d-8670-44b4-b2df-45055b388bc4",
   "metadata": {},
   "outputs": [],
   "source": [
    "drop_cols = pathways.filter(like = 'UNINTEGRATED').columns.tolist() + pathways.filter(like = 'UNMAPPED').columns.tolist() + pathways.filter(like = '|unclassified').columns.tolist()\n",
    "pathways = pathways.drop(columns=drop_cols)\n",
    "pathways_strat = pathways.filter(like = '|')\n",
    "pathways_unstrat = pathways.drop(columns = pathways_strat.columns)"
   ]
  },
  {
   "cell_type": "markdown",
   "id": "daba1d68-3e23-4779-83a2-1bf06b81b44b",
   "metadata": {},
   "source": [
    "## Prepare input data"
   ]
  },
  {
   "cell_type": "code",
   "execution_count": 8,
   "id": "909519ac-71db-421f-b81f-5d396d8a3732",
   "metadata": {},
   "outputs": [],
   "source": [
    "## Filter low abundance bacteria\n",
    "def filter_prevalence(df, treshold = 0.1):\n",
    "    '''features as columns'''\n",
    "    df_binary = df.copy()\n",
    "    df_binary[df_binary>0]=1\n",
    "    df_binary_sum = df_binary.sum(axis=0)\n",
    "    \n",
    "    keep_features = df_binary_sum[df_binary_sum > df.shape[0]*treshold].index\n",
    "    filtered_df = df[keep_features]\n",
    "    \n",
    "    return filtered_df\n",
    "\n",
    "def filter_on_abundance(df, abundance_treshold = 1e-3):\n",
    "    '''features as columns'''\n",
    "    df_relab = df.div(df.sum(axis=1), axis=0)\n",
    "    df_relab_mean = df_relab.mean()\n",
    "\n",
    "    keep_features = df_relab_mean[df_relab_mean > abundance_treshold].index\n",
    "    filtered_df = df[keep_features]\n",
    "    \n",
    "    return filtered_df\n",
    "\n",
    "filtered_taxonomy = filter_on_abundance(filter_prevalence(taxonomy))\n",
    "filtered_pathways = filter_on_abundance(filter_prevalence(pathways_unstrat))"
   ]
  },
  {
   "cell_type": "code",
   "execution_count": 9,
   "id": "6188872d-6109-4091-af7f-92b6cc8a0174",
   "metadata": {},
   "outputs": [],
   "source": [
    "## Change to relative abundance\n",
    "taxonomy_relab_df = filtered_taxonomy.div(filtered_taxonomy.sum(axis=1), axis=0)\n",
    "pathways_relab_df = filtered_pathways.div(filtered_pathways.sum(axis=1), axis=0)"
   ]
  },
  {
   "cell_type": "code",
   "execution_count": 10,
   "id": "173035a7-314b-427f-8d29-747c4574b14b",
   "metadata": {},
   "outputs": [
    {
     "data": {
      "text/plain": [
       "((1000, 100), (1000, 197))"
      ]
     },
     "execution_count": 10,
     "metadata": {},
     "output_type": "execute_result"
    }
   ],
   "source": [
    "## Filter out train and validation set\n",
    "train_taxonomy = taxonomy_relab_df.sample(1000, random_state = 42)\n",
    "train_pathways = pathways_relab_df[pathways_relab_df.index.isin(train_taxonomy.index)]\n",
    "\n",
    "train_taxonomy.shape, train_pathways.shape"
   ]
  },
  {
   "cell_type": "markdown",
   "id": "3ea0d6d3-bd7b-42fd-8ec5-ecc944b45ca1",
   "metadata": {},
   "source": [
    "## Split to train and test"
   ]
  },
  {
   "cell_type": "code",
   "execution_count": 11,
   "id": "5a2034a4-4f3a-4f77-911a-020629fe76c1",
   "metadata": {},
   "outputs": [],
   "source": [
    "X_taxonomy_train, X_taxonomy_test = train_test_split(train_taxonomy, test_size=0.3, random_state=42)\n",
    "X_pathways_train, X_pathways_test = train_test_split(train_pathways, test_size=0.3, random_state=42)"
   ]
  },
  {
   "cell_type": "code",
   "execution_count": 12,
   "id": "d886379b-017d-4562-b3f4-9828b343a363",
   "metadata": {},
   "outputs": [],
   "source": [
    "PA_matrix = pd.read_csv('inputs/PA_matrix.csv', index_col = [0])"
   ]
  },
  {
   "cell_type": "markdown",
   "id": "2a18caf2-0f84-4579-a3e1-45e96d07714c",
   "metadata": {},
   "source": [
    "## Prepare phylogenetic data"
   ]
  },
  {
   "cell_type": "code",
   "execution_count": 13,
   "id": "682d4fcf-c053-43ff-8bc2-1c563665ed70",
   "metadata": {},
   "outputs": [],
   "source": [
    "## Prepare phylogenetic distance matrix\n",
    "dm = pd.read_csv('inputs/phyloM.csv', index_col = [0])\n",
    "\n",
    "dm = dm[train_taxonomy.columns]\n",
    "dm = dm[dm.index.isin(train_taxonomy.columns)]\n",
    "dm = dm.sort_index().T.sort_index()\n",
    "\n",
    "dm = dm.reindex(X_taxonomy_train.columns).T.reindex(X_taxonomy_train.columns)"
   ]
  },
  {
   "cell_type": "raw",
   "id": "c2216833-3770-4d76-88e0-ad4ea09e226c",
   "metadata": {},
   "source": [
    "# T=małe więcej wagi na bakterie blisko siebie, T duże globalnie\n",
    "T=1\n",
    "U, S, Vh = np.linalg.svd(np.exp(-dm.values/T), hermitian=True)\n",
    "# y_rekonstrukcje i y_true mnoze przez U*1/S*Vh.T (odworotna macierz kowariancji)\n",
    "# loss = (y_rec - y_true) * U*1/S*Vh.T * (y_rec - y_true).T"
   ]
  },
  {
   "cell_type": "code",
   "execution_count": 14,
   "id": "4bb8cd6d-9db3-4d0a-8c35-fcc612a09a44",
   "metadata": {},
   "outputs": [],
   "source": [
    "def phylogeny_transform_data(x, U, S):\n",
    "    result = (x @ U) / np.sqrt(S)\n",
    "    return result\n",
    "\n",
    "def inv_phylogeny_transform_data(x, U, S):\n",
    "    x_recovered = (x * np.sqrt(S)) @ np.linalg.inv(U)\n",
    "    return x_recovered\n",
    "\n",
    "T=1\n",
    "\n",
    "U, S, Vh = np.linalg.svd(np.exp(-dm.values/T), hermitian=True) #The eigenvectors corresponding to distinct eigenvalues of a Hermitian matrix are orthogonal to each other.\n",
    "\n",
    "X_taxonomy_train_transformed = pd.DataFrame(np.apply_along_axis(phylogeny_transform_data, 1, X_taxonomy_train.values, U=U, S=S), columns = X_taxonomy_train.columns, index = X_taxonomy_train.index)\n",
    "X_taxonomy_test_transformed = pd.DataFrame(np.apply_along_axis(phylogeny_transform_data, 1, X_taxonomy_test.values, U=U, S=S), columns = X_taxonomy_test.columns, index = X_taxonomy_test.index)\n",
    "\n",
    "X_train_taxonomy_tensor = torch.tensor(X_taxonomy_train_transformed.values, dtype=torch.float32)\n",
    "X_train_pathways_tensor = torch.tensor(X_pathways_train.values, dtype=torch.float32)\n",
    "\n",
    "X_test_taxonomy_tensor = torch.tensor(X_taxonomy_test_transformed.values, dtype=torch.float32)\n",
    "X_test_pathways_tensor = torch.tensor(X_pathways_test.values, dtype=torch.float32)"
   ]
  },
  {
   "cell_type": "markdown",
   "id": "bfc4647d-0fd0-4485-82cd-15ff742972d4",
   "metadata": {},
   "source": [
    "# PREPARE VALIDATION DATA"
   ]
  },
  {
   "cell_type": "code",
   "execution_count": 15,
   "id": "5e53473e-29ae-4c03-b25f-df1e1094c649",
   "metadata": {},
   "outputs": [],
   "source": [
    "TAXONOMY = pd.read_csv('inputs/taxonomy.csv', index_col= [0], low_memory=False).fillna(0).sort_index()\n",
    "PATHWAYS = pd.read_csv('inputs/pathways.csv', index_col= [0], low_memory=False).fillna(0).sort_index()\n",
    "METADATA = pd.read_csv('inputs/metadata.csv', index_col= [0], low_memory=False).sort_index()\n",
    "\n",
    "METADATA['SICK'] = np.where(METADATA.disease == 'healthy', 0, 1)\n",
    "\n",
    "pathways_val1 = pd.read_csv('inputs/HMP_2019_ibdmdb_pathways.csv', index_col= [0], low_memory=False).iloc[:, 2:].sort_index()\n",
    "pathways_val2 = pd.read_csv('inputs/HMP_2019_ibdmdb_pathways_healthy.csv', index_col= [0], low_memory=False).iloc[:, 2:].sort_index()\n",
    "pathways_val = pd.concat([pathways_val1, pathways_val2], axis=0)\n",
    "\n",
    "metadata_val = METADATA[METADATA['sample_id'].isin(pathways_val.index)]\n",
    "val_samples = metadata_val.drop_duplicates(subset = 'subject_id').sample_id\n",
    "metadata_val = metadata_val[metadata_val.sample_id.isin(val_samples)].set_index('sample_id')[['age', 'BMI', 'SICK']].dropna()\n",
    "\n",
    "val_samples = metadata_val.index\n",
    "\n",
    "taxonomy_val = TAXONOMY[TAXONOMY.index.isin(val_samples)].sort_index()\n",
    "pathways_val = PATHWAYS[PATHWAYS.index.isin(val_samples)].sort_index()\n",
    "metadata_val = metadata_val.sort_index()\n",
    "\n",
    "\n",
    "# FIlter only features that are in the model\n",
    "pathways_val = pathways_val[X_pathways_train.columns]\n",
    "taxonomy_val = taxonomy_val[X_taxonomy_train.columns]\n",
    "\n",
    "# Change to relative abundance\n",
    "pathways_val = pathways_val.div(pathways_val.sum(axis=1), axis=0)\n",
    "taxonomy_val = taxonomy_val.div(taxonomy_val.sum(axis=1), axis=0)\n",
    "\n",
    "# Transform wity phylogeny\n",
    "X_taxonomy_val_transformed = pd.DataFrame(np.apply_along_axis(phylogeny_transform_data, 1, taxonomy_val.values, U=U, S=S), columns = taxonomy_val.columns, index = taxonomy_val.index)\n",
    "\n",
    "# Transform into a tensor\n",
    "X_val_taxonomy_tensor = torch.tensor(X_taxonomy_val_transformed.values, dtype=torch.float32)\n",
    "X_val_pathways_tensor = torch.tensor(pathways_val.values, dtype=torch.float32)"
   ]
  },
  {
   "cell_type": "markdown",
   "id": "9db60047-5abc-4521-8a52-a6f35593e7db",
   "metadata": {},
   "source": [
    "#### You can only multiply matrices if the number of columns of the first matrix is the same as the number of rows as the second matrix. For example, say you want to multiply A x B. If A is a 3x1 matrix, B has to be a 1xY matrix (Y can be any number), because A only has 1 column."
   ]
  },
  {
   "cell_type": "markdown",
   "id": "cdbac631-dc55-4814-8774-32b2cb377ee9",
   "metadata": {},
   "source": [
    "## DEFINE MODEL"
   ]
  },
  {
   "cell_type": "code",
   "execution_count": 14,
   "id": "c228ae21-0c72-4bcc-b46e-fec849c12a9a",
   "metadata": {},
   "outputs": [],
   "source": [
    "import torch\n",
    "import torch.nn as nn\n",
    "import torch.optim as optim\n",
    "\n",
    "class GeneToPathwayLayer(nn.Module):\n",
    "    def __init__(self, num_genes, num_pathways, presence_absence_matrix):\n",
    "        super(GeneToPathwayLayer, self).__init__()\n",
    "        self.num_genes = num_genes\n",
    "        self.num_pathways = num_pathways\n",
    "        \n",
    "        # Initialize weights to connect genes to pathways\n",
    "        self.weights = nn.Parameter(torch.randn(num_genes, num_pathways))\n",
    "        \n",
    "        # Presence/Absence matrix (should be of shape (num_genes, num_pathways))\n",
    "        self.presence_absence_matrix = presence_absence_matrix\n",
    "        \n",
    "    def forward(self, x, pathway_abundance=None):\n",
    "        masked_weights = self.weights * self.presence_absence_matrix\n",
    "        \n",
    "        pathway_output = torch.matmul(x, masked_weights)  # (N, num_genes) -> (N, num_pathways)\n",
    "        \n",
    "        if pathway_abundance is not None:\n",
    "\n",
    "            pathway_output = pathway_output * pathway_abundance  # Element-wise multiplication (N, num_pathways)\n",
    "        \n",
    "        return pathway_output\n",
    "\n",
    "class VariationalAutoencoder(nn.Module):\n",
    "    def __init__(self, num_genes, num_pathways, latent_dim, presence_absence_matrix):\n",
    "        super(VariationalAutoencoder, self).__init__()\n",
    "        \n",
    "        self.num_genes = num_genes\n",
    "        self.num_pathways = num_pathways\n",
    "        self.latent_dim = latent_dim\n",
    "        \n",
    "        # Encoder layers\n",
    "        self.input_layer = nn.Linear(num_genes, num_genes)  # (100, 100)\n",
    "        self.gene_to_pathway = GeneToPathwayLayer(num_genes, num_pathways, presence_absence_matrix)  # (100, 10)\n",
    "        \n",
    "        # Latent space (mean and log-variance)\n",
    "        self.fc_mu = nn.Linear(num_pathways, latent_dim)  # (10, 20)\n",
    "        self.fc_logvar = nn.Linear(num_pathways, latent_dim)  # (10, 20)\n",
    "        \n",
    "        # Decoder layers\n",
    "        self.decode_latent = nn.Linear(latent_dim, num_pathways)  # (20, 10)\n",
    "        self.decode_pathway = nn.Linear(num_pathways, num_genes)  # (10, 100)\n",
    "        \n",
    "    def encode(self, x, pathway_abundance=None):\n",
    "        x = torch.relu(self.input_layer(x))  # (N, 100) -> (N, 100)\n",
    "        x = torch.relu(self.gene_to_pathway(x, pathway_abundance))  # (N, 100) -> (N, 10)\n",
    "        mu = self.fc_mu(x)  # (N, 10) -> (N, 20)\n",
    "        logvar = self.fc_logvar(x)  # (N, 10) -> (N, 20)\n",
    "        return mu, logvar\n",
    "    \n",
    "    def reparameterize(self, mean, log_var):\n",
    "        batch, dim = mean.shape\n",
    "        epsilon = Normal(0, 1).sample((batch, dim)).to(mean.device)\n",
    "        return mean + torch.exp(0.5 * log_var) * epsilon\n",
    "    \n",
    "    def decode(self, z):\n",
    "        z = torch.relu(self.decode_latent(z))  # (N, 20) -> (N, 10)\n",
    "        z = self.decode_pathway(z)  # (N, 10) -> (N, 100)\n",
    "        return z\n",
    "    \n",
    "    def forward(self, x, pathway_abundance=None):\n",
    "        mu, logvar = self.encode(x, pathway_abundance)  # (N, 100) -> (N, 20), (N, 20)\n",
    "        z = self.reparameterize(mu, logvar)  # (N, 20)\n",
    "        recon_x = self.decode(z)  # (N, 20) -> (N, 100)\n",
    "        return recon_x, mu, logvar, z\n",
    "    \n",
    "    \n",
    "def loss_function(x, x_hat, mean, logvar, phylo_weight = 1, beta = 1e-3):\n",
    "    \n",
    "    reproduction_loss = nn.functional.mse_loss(x_hat, x, reduction='sum')\n",
    "    KLD = -0.5 * torch.sum(1 + logvar - mean.pow(2) - logvar.exp())\n",
    "    \n",
    "    return reproduction_loss + beta*KLD\n",
    "\n",
    "def calculate_disparity(x_pred, x_true):\n",
    "    try:\n",
    "        \n",
    "        x_pred_inv = np.apply_along_axis(inv_phylogeny_transform_data, 1, x_pred.detach().numpy(), U=U, S=S)\n",
    "        x_true_inv = np.apply_along_axis(inv_phylogeny_transform_data, 1, x_true.detach().numpy(), U=U, S=S)\n",
    "\n",
    "        pcoa1 = pcoa(squareform(pdist(x_pred_inv))).samples; pcoa2 = pcoa(squareform(pdist(x_true_inv))).samples\n",
    "        \n",
    "        Tmtx1, Tmtx2, Tdisp = procrustes(pcoa1.iloc[:, :2], pcoa2.iloc[:, :2])\n",
    "    \n",
    "    except:\n",
    "        Tdisp=1\n",
    "    \n",
    "    return Tdisp"
   ]
  },
  {
   "cell_type": "code",
   "execution_count": 29,
   "id": "a77ed1a4-2442-4e4d-9dc6-0bf798c3d95b",
   "metadata": {
    "tags": []
   },
   "outputs": [],
   "source": [
    "class DownstreamModel(nn.Module):\n",
    "    def __init__(self, input_dim, hidden_units=32, activation=nn.ReLU):\n",
    "        super(DownstreamModel, self).__init__()\n",
    "        self.fc1 = nn.Linear(input_dim, hidden_units)\n",
    "        self.fc2 = nn.Linear(hidden_units, hidden_units)\n",
    "\n",
    "        # Output layers for each task\n",
    "        self.fc_age = nn.Linear(hidden_units, 1)  # For predicting age (continuous)\n",
    "        self.fc_bmi = nn.Linear(hidden_units, 1)  # For predicting BMI (continuous)\n",
    "        self.fc_health = nn.Linear(hidden_units, 1)  # For predicting health (binary)\n",
    "\n",
    "        self.activation = activation()\n",
    "        self.sigmoid = nn.Sigmoid()  # For binary output\n",
    "\n",
    "    def forward(self, x):\n",
    "        x = self.activation(self.fc1(x))\n",
    "        x = self.activation(self.fc2(x))\n",
    "\n",
    "        age_out = self.fc_age(x)\n",
    "        bmi_out = self.fc_bmi(x)\n",
    "        health_out = self.sigmoid(self.fc_health(x))  # Apply sigmoid to binary output\n",
    "\n",
    "        return age_out, bmi_out, health_out\n",
    "\n",
    "def RunDownstream(z, metadata=metadata_val):\n",
    "\n",
    "    X = z.detach().numpy()\n",
    "    y_age, y_bmi, y_health = metadata.age, metadata.BMI, metadata.SICK\n",
    "\n",
    "    X_train, X_test, y_age_train, y_age_test, y_bmi_train, y_bmi_test, y_health_train, y_health_test = train_test_split(\n",
    "        X, y_age, y_bmi, y_health, test_size=0.3, random_state=42)\n",
    "\n",
    "    # Convert to PyTorch tensors\n",
    "    X_train = torch.tensor(X_train, dtype=torch.float32)\n",
    "    X_test = torch.tensor(X_test, dtype=torch.float32)\n",
    "    y_age_train = torch.tensor(y_age_train, dtype=torch.float32).view(-1, 1)\n",
    "    y_age_test = torch.tensor(y_age_test, dtype=torch.float32).view(-1, 1)\n",
    "    y_bmi_train = torch.tensor(y_bmi_train, dtype=torch.float32).view(-1, 1)\n",
    "    y_bmi_test = torch.tensor(y_bmi_test, dtype=torch.float32).view(-1, 1)\n",
    "    y_health_train = torch.tensor(y_health_train, dtype=torch.float32).view(-1, 1)\n",
    "    y_health_test = torch.tensor(y_health_test, dtype=torch.float32).view(-1, 1)\n",
    "\n",
    "    def tune_downstream_model(downstream_config):\n",
    "\n",
    "        downstream_model = DownstreamModel(input_dim=X_train.shape[1], hidden_units=downstream_config['hidden_units'])\n",
    "\n",
    "        # Define the loss functions for each output\n",
    "        criterion_age = nn.HuberLoss()\n",
    "        criterion_bmi = nn.HuberLoss()\n",
    "        criterion_health = nn.BCELoss()\n",
    "\n",
    "        # Define a single optimizer for all parameters\n",
    "        downstream_optimizer = optim.Adam(downstream_model.parameters(), lr=downstream_config['lr'])\n",
    "\n",
    "        n_epochs = downstream_config['epochs']\n",
    "        batch_size = downstream_config['batch_size']\n",
    "\n",
    "        # Convert data to DataLoader\n",
    "        train_data = torch.utils.data.TensorDataset(X_train, y_age_train, y_bmi_train, y_health_train)\n",
    "        train_loader = torch.utils.data.DataLoader(dataset=train_data, batch_size=batch_size, shuffle=True)\n",
    "\n",
    "        test_data = torch.utils.data.TensorDataset(X_test, y_age_test, y_bmi_test, y_health_test)\n",
    "        test_loader = torch.utils.data.DataLoader(dataset=test_data, batch_size=batch_size, shuffle=True)\n",
    "\n",
    "        for epoch in range(n_epochs):\n",
    "            downstream_model.train()\n",
    "            running_loss_age = 0.0\n",
    "            running_loss_bmi = 0.0\n",
    "            running_loss_health = 0.0\n",
    "            running_total_loss = 0.0\n",
    "            train_steps = 0.0\n",
    "            for batch_X, batch_y_age, batch_y_bmi, batch_y_health in train_loader:\n",
    "\n",
    "                batch_X = batch_X.to(DEVICE)\n",
    "                downstream_optimizer.zero_grad()\n",
    "\n",
    "                age_out, bmi_out, health_out = downstream_model(batch_X)\n",
    "\n",
    "                loss_age = criterion_age(age_out, batch_y_age)\n",
    "                loss_bmi = criterion_bmi(bmi_out, batch_y_bmi)\n",
    "                loss_health = criterion_health(health_out, batch_y_health)\n",
    "\n",
    "                # Do not use `.item()` here\n",
    "                scale_age = 1.0 / (loss_age + 1e-8)\n",
    "                scale_bmi = 1.0 / (loss_bmi + 1e-8)\n",
    "                scale_health = 1.0 / (loss_health + 1e-8)\n",
    "\n",
    "                # Combine losses with dynamic scaling\n",
    "                downstream_loss = (scale_age * loss_age + scale_bmi * loss_bmi + scale_health * loss_health) / (scale_age + scale_bmi + scale_health)\n",
    "\n",
    "                downstream_loss.backward()  # Backward pass\n",
    "                downstream_optimizer.step()  # Update weights\n",
    "\n",
    "                running_loss_age += loss_age.item()\n",
    "                running_loss_bmi += loss_bmi.item()\n",
    "                running_loss_health += loss_health.item()\n",
    "                running_total_loss += downstream_loss.item()\n",
    "\n",
    "                train_steps += 1\n",
    "\n",
    "            downstream_model.eval()\n",
    "            test_loss_age = 0.0\n",
    "            test_loss_bmi = 0.0\n",
    "            test_loss_health = 0.0\n",
    "            test_total_loss = 0.0\n",
    "            test_steps = 0.0    \n",
    "            with torch.no_grad():\n",
    "                for batch_X, batch_y_age, batch_y_bmi, batch_y_health in test_loader:\n",
    "\n",
    "                    batch_X = batch_X.to(DEVICE)\n",
    "                    age_out, bmi_out, health_out = downstream_model(batch_X)\n",
    "\n",
    "                    loss_age = criterion_age(age_out, batch_y_age)\n",
    "                    loss_bmi = criterion_bmi(bmi_out, batch_y_bmi)\n",
    "                    loss_health = criterion_health(health_out, batch_y_health)\n",
    "\n",
    "                    # Do not use `.item()` here\n",
    "                    scale_age = 1.0 / (loss_age + 1e-8)\n",
    "                    scale_bmi = 1.0 / (loss_bmi + 1e-8)\n",
    "                    scale_health = 1.0 / (loss_health + 1e-8)\n",
    "\n",
    "                    # Combine losses with dynamic scaling\n",
    "                    downstream_loss = (scale_age * loss_age + scale_bmi * loss_bmi + scale_health * loss_health) / (scale_age + scale_bmi + scale_health)\n",
    "\n",
    "                    test_loss_age += loss_age.item()\n",
    "                    test_loss_bmi += loss_bmi.item()\n",
    "                    test_loss_health += loss_health.item()\n",
    "                    test_total_loss += downstream_loss.item()\n",
    "                    test_steps += 1\n",
    "\n",
    "            avg_train_age_loss = running_loss_age / train_steps\n",
    "            avg_train_bmi_loss = running_loss_bmi / train_steps\n",
    "            avg_train_health_loss = running_loss_health / train_steps\n",
    "            avg_train_total_loss = running_total_loss / train_steps\n",
    "\n",
    "            avg_test_age_loss = test_loss_age / test_steps\n",
    "            avg_test_bmi_loss = test_loss_bmi / test_steps\n",
    "            avg_test_health_loss = test_loss_health / test_steps\n",
    "            avg_test_total_loss = test_total_loss / test_steps\n",
    "\n",
    "            tune.report(train_age_loss=avg_train_age_loss, \n",
    "                        train_bmi_loss=avg_train_bmi_loss,\n",
    "                        train_health_loss=avg_train_health_loss,\n",
    "                        train_total_loss=running_total_loss,\n",
    "                        test_age_loss=avg_test_age_loss,\n",
    "                        test_bmi_loss=avg_test_bmi_loss,\n",
    "                        test_health_loss=avg_test_health_loss,\n",
    "                        test_total_loss=avg_test_total_loss)\n",
    "\n",
    "    # Hyperparameter space to search over\n",
    "    downstream_config = {\n",
    "        \"batch_size\": tune.choice([8, 16, 32, 64]),\n",
    "        \"lr\": tune.loguniform(1e-4, 1e-1),\n",
    "        \"epochs\": tune.choice([50]),\n",
    "        \"hidden_units\": tune.choice([128, 64, 32, 16, 8])\n",
    "    }\n",
    "\n",
    "    # Running the Ray Tune experiment with metric and mode\n",
    "    analysis = tune.run(\n",
    "        tune_downstream_model,\n",
    "        config=downstream_config,\n",
    "        num_samples=2,  # Number of samples to try\n",
    "        resources_per_trial={\"cpu\": 2, \"gpu\": 0},  # Adjust based on your environment\n",
    "        local_dir=\"ray_results\",  # Directory where results will be saved\n",
    "        metric=\"test_total_loss\",  # Metric to optimize\n",
    "        mode=\"min\",  # Minimize the test loss\n",
    "        verbose=0\n",
    "    )\n",
    "\n",
    "    best_downstream_config = analysis.get_best_config(metric=\"test_total_loss\", mode=\"min\")\n",
    "\n",
    "    def run_downstream_model(config=best_downstream_config):\n",
    "\n",
    "        downstream_model = DownstreamModel(input_dim=X_train.shape[1], hidden_units=config['hidden_units'])\n",
    "\n",
    "        criterion_age = nn.HuberLoss()\n",
    "        criterion_bmi = nn.HuberLoss()\n",
    "        criterion_health = nn.BCELoss()\n",
    "\n",
    "        downstream_optimizer = optim.Adam(downstream_model.parameters(), lr=config['lr'])\n",
    "\n",
    "        n_epochs = config['epochs']\n",
    "        batch_size = config['batch_size']\n",
    "\n",
    "        train_data = torch.utils.data.TensorDataset(X_train, y_age_train, y_bmi_train, y_health_train)\n",
    "        train_loader = torch.utils.data.DataLoader(dataset=train_data, batch_size=batch_size, shuffle=True)\n",
    "\n",
    "        test_data = torch.utils.data.TensorDataset(X_test, y_age_test, y_bmi_test, y_health_test)\n",
    "        test_loader = torch.utils.data.DataLoader(dataset=test_data, batch_size=batch_size, shuffle=True)\n",
    "\n",
    "        results = []\n",
    "        for epoch in range(n_epochs):\n",
    "\n",
    "            downstream_model.train()\n",
    "            running_loss_age = 0.0\n",
    "            running_loss_bmi = 0.0\n",
    "            running_loss_health = 0.0\n",
    "            running_total_loss = 0.0\n",
    "            train_steps = 0.0\n",
    "            for batch_X, batch_y_age, batch_y_bmi, batch_y_health in train_loader:\n",
    "\n",
    "                batch_X = batch_X.to(DEVICE)\n",
    "                downstream_optimizer.zero_grad()\n",
    "\n",
    "                age_out, bmi_out, health_out = downstream_model(batch_X)\n",
    "\n",
    "                loss_age = criterion_age(age_out, batch_y_age)\n",
    "                loss_bmi = criterion_bmi(bmi_out, batch_y_bmi)\n",
    "                loss_health = criterion_health(health_out, batch_y_health)\n",
    "\n",
    "                # Dynamically scale the losses\n",
    "                scale_age = 1.0 / (loss_age + 1e-8)\n",
    "                scale_bmi = 1.0 / (loss_bmi + 1e-8)\n",
    "                scale_health = 1.0 / (loss_health + 1e-8)\n",
    "\n",
    "                downstream_loss = (scale_age * loss_age + scale_bmi * loss_bmi + scale_health * loss_health) / (scale_age + scale_bmi + scale_health)\n",
    "\n",
    "                downstream_loss.backward()  # Backward pass\n",
    "                downstream_optimizer.step()  # Update weights\n",
    "\n",
    "                running_loss_age += loss_age.item()\n",
    "                running_loss_bmi += loss_bmi.item()\n",
    "                running_loss_health += loss_health.item()\n",
    "                running_total_loss += downstream_loss.item()\n",
    "\n",
    "                train_steps += 1\n",
    "\n",
    "            downstream_model.eval()\n",
    "            test_loss_age = 0.0\n",
    "            test_loss_bmi = 0.0\n",
    "            test_loss_health = 0.0\n",
    "            test_total_loss = 0.0\n",
    "            test_steps = 0.0    \n",
    "            with torch.no_grad():\n",
    "                for batch_X, batch_y_age, batch_y_bmi, batch_y_health in test_loader:\n",
    "\n",
    "                    batch_X = batch_X.to(DEVICE)\n",
    "                    age_out, bmi_out, health_out = downstream_model(batch_X)\n",
    "\n",
    "                    loss_age = criterion_age(age_out, batch_y_age)\n",
    "                    loss_bmi = criterion_bmi(bmi_out, batch_y_bmi)\n",
    "                    loss_health = criterion_health(health_out, batch_y_health)\n",
    "\n",
    "                    scale_age = 1.0 / (loss_age + 1e-8)\n",
    "                    scale_bmi = 1.0 / (loss_bmi + 1e-8)\n",
    "                    scale_health = 1.0 / (loss_health + 1e-8)\n",
    "\n",
    "                    downstream_loss = (scale_age * loss_age + scale_bmi * loss_bmi + scale_health * loss_health) / (scale_age + scale_bmi + scale_health)\n",
    "\n",
    "                    test_loss_age += loss_age.item()\n",
    "                    test_loss_bmi += loss_bmi.item()\n",
    "                    test_loss_health += loss_health.item()\n",
    "                    test_total_loss += downstream_loss.item()\n",
    "                    test_steps += 1\n",
    "\n",
    "            avg_train_age_loss = running_loss_age / train_steps\n",
    "            avg_train_bmi_loss = running_loss_bmi / train_steps\n",
    "            avg_train_health_loss = running_loss_health / train_steps\n",
    "            avg_train_total_loss = running_total_loss / train_steps\n",
    "\n",
    "            avg_test_age_loss = test_loss_age / test_steps\n",
    "            avg_test_bmi_loss = test_loss_bmi / test_steps\n",
    "            avg_test_health_loss = test_loss_health / test_steps\n",
    "            avg_test_total_loss = test_total_loss / test_steps\n",
    "\n",
    "            results.append({\n",
    "                'epoch': epoch,\n",
    "                'train_age_loss': avg_train_age_loss,\n",
    "                'train_bmi_loss': avg_train_bmi_loss,\n",
    "                'train_health_loss': avg_train_health_loss,\n",
    "                'train_total_loss': avg_train_total_loss,\n",
    "                'test_age_loss': avg_test_age_loss,\n",
    "                'test_bmi_loss': avg_test_bmi_loss,\n",
    "                'test_health_loss': avg_test_health_loss,\n",
    "                'test_total_loss': avg_test_total_loss\n",
    "            })\n",
    "\n",
    "        return pd.DataFrame(results)\n",
    "\n",
    "    downstream_history = run_downstream_model()\n",
    "    \n",
    "    return downstream_history\n"
   ]
  },
  {
   "cell_type": "code",
   "execution_count": 37,
   "id": "e65bef98-8b5b-45f7-9e49-08ec8a3657ba",
   "metadata": {},
   "outputs": [],
   "source": [
    "def tune_model(config):\n",
    "    \n",
    "    num_genes = X_taxonomy_train.shape[1]  # Number of gene features\n",
    "    num_pathways = X_pathways_train.shape[1]  # Number of biological pathways\n",
    "\n",
    "    # presence/absence matrix \n",
    "    presence_absence_matrix = torch.tensor(PA_matrix.values).float()  # Shape: (100, 10)\n",
    "\n",
    "    # Hyperparameters\n",
    "    BATCH_SIZE = config[\"batch_size\"]\n",
    "    EPOCHS = config[\"epochs\"]  \n",
    "    HIDDEN_DIM = config['hidden_dim']\n",
    "    EMBEDDING_DIM = config['embedding_dim']\n",
    "    LOSS_BETA = config['beta']\n",
    "\n",
    "    # Initialize the model\n",
    "    model = VariationalAutoencoder(num_genes, num_pathways, EMBEDDING_DIM, presence_absence_matrix)\n",
    "    optimizer = torch.optim.Adam(model.parameters(), lr=config[\"lr\"])\n",
    "\n",
    "    # Data loaders\n",
    "    taxonomy_train_loader = torch.utils.data.DataLoader(X_train_taxonomy_tensor, batch_size=BATCH_SIZE, shuffle=False)\n",
    "    taxonomy_test_loader = torch.utils.data.DataLoader(X_test_taxonomy_tensor, batch_size=BATCH_SIZE, shuffle=False)\n",
    "\n",
    "    pathways_train_loader = torch.utils.data.DataLoader(X_train_pathways_tensor, batch_size=BATCH_SIZE, shuffle=False)\n",
    "    pathways_test_loader = torch.utils.data.DataLoader(X_test_pathways_tensor, batch_size=BATCH_SIZE, shuffle=False)\n",
    "\n",
    "    for epoch in range(EPOCHS):\n",
    "\n",
    "        model.train()\n",
    "        overall_loss = 0.0\n",
    "        train_steps = 0.0\n",
    "        train_disparity = 0.0\n",
    "        \n",
    "        for xT, xP in zip(taxonomy_train_loader, pathways_train_loader):\n",
    "\n",
    "            xT = xT.to(DEVICE);  xP = xP.to(DEVICE)\n",
    "\n",
    "            optimizer.zero_grad()\n",
    "\n",
    "            reconstruction, mu, logvar, z = model(xT, xP)\n",
    "            \n",
    "            loss = loss_function(xT, reconstruction, mu, logvar, LOSS_BETA)\n",
    "            \n",
    "            disparity = calculate_disparity(reconstruction, xT)\n",
    "            \n",
    "            overall_loss += loss.item()\n",
    "            train_steps += 1\n",
    "            train_disparity += disparity\n",
    "\n",
    "            loss.backward()\n",
    "            optimizer.step()\n",
    "\n",
    "        model.eval()\n",
    "        test_loss = 0\n",
    "        test_steps = 0.0\n",
    "        test_disparity = 0.0\n",
    "        with torch.no_grad():\n",
    "            for xT, xP in zip(taxonomy_test_loader, pathways_test_loader):\n",
    "                xT = xT.to(DEVICE);  xP = xP.to(DEVICE)\n",
    "\n",
    "                reconstruction, mu, logvar, z = model(xT, xP)\n",
    "                \n",
    "                loss = loss_function(xT, reconstruction, mu, logvar, LOSS_BETA)\n",
    "                \n",
    "                disparity = calculate_disparity(reconstruction, xT)\n",
    "\n",
    "                test_loss += loss.item()\n",
    "                test_steps += 1\n",
    "                test_disparity += disparity\n",
    "\n",
    "\n",
    "        avg_train_loss = overall_loss / train_steps\n",
    "        avg_test_loss = test_loss / test_steps\n",
    "        avg_train_disparity = train_disparity / train_steps\n",
    "        avg_test_disparity = test_disparity / test_steps\n",
    "\n",
    "        tune.report(train_loss=avg_train_loss, \n",
    "                    test_loss=avg_test_loss,\n",
    "                    train_disparity = avg_train_disparity,\n",
    "                    test_disparity = avg_test_disparity\n",
    "                   )  "
   ]
  },
  {
   "cell_type": "code",
   "execution_count": null,
   "id": "945ce834-d3ca-4344-86ad-b1b2b828e81e",
   "metadata": {},
   "outputs": [],
   "source": [
    "# Hyperparameter space to search over\n",
    "config = {\n",
    "    \"batch_size\": tune.choice([8, 16, 32, 64]),\n",
    "    \"lr\": tune.loguniform(1e-4, 1e-2),\n",
    "    \"epochs\": tune.choice([50]),\n",
    "    \"hidden_dim\":tune.choice([128, 64, 32, 16]),\n",
    "    \"embedding_dim\":tune.choice([2, 4, 8, 16, 32]),\n",
    "    \"beta\":tune.loguniform(1e-6, 1e-1)\n",
    "}\n",
    "\n",
    "# Running the Ray Tune experiment with metric and mode\n",
    "analysis = tune.run(\n",
    "    tune_model,\n",
    "    config=config,\n",
    "    num_samples=20,  # Number of samples to try\n",
    "    resources_per_trial={\"cpu\": 2, \"gpu\": 0},  # Adjust based on your environment\n",
    "    local_dir=\"ray_results\",  # Directory where results will be saved\n",
    "    metric=\"test_loss\",  # Metric to optimize\n",
    "    mode=\"min\",  # Minimize the test loss\n",
    "    verbose=1\n",
    ")"
   ]
  },
  {
   "cell_type": "code",
   "execution_count": 44,
   "id": "6f6d3855-1cf5-4f73-a5e6-989f92e8b0e1",
   "metadata": {},
   "outputs": [
    {
     "name": "stdout",
     "output_type": "stream",
     "text": [
      "Best config:  {'batch_size': 8, 'lr': 0.003605385949704991, 'epochs': 50, 'hidden_dim': 32, 'embedding_dim': 4, 'beta': 0.00013457365627930103}\n",
      "Best trial train loss: 9.24858516996557\n",
      "Best trial test loss: 5.0846418769736035\n"
     ]
    }
   ],
   "source": [
    "# Fetch the best configuration\n",
    "best_config = analysis.get_best_config(metric=\"test_loss\", mode=\"min\")\n",
    "print(\"Best config: \", best_config)\n",
    "\n",
    "# Get the best trial corresponding to the best config\n",
    "best_trial = analysis.get_best_trial(metric=\"test_loss\", mode=\"min\")\n",
    "\n",
    "# Retrieve the final losses from the best trial\n",
    "best_train_loss = best_trial.last_result[\"train_loss\"]\n",
    "best_test_loss = best_trial.last_result[\"test_loss\"]\n",
    "\n",
    "print(f\"Best trial train loss: {best_train_loss}\")\n",
    "print(f\"Best trial test loss: {best_test_loss}\")"
   ]
  },
  {
   "cell_type": "code",
   "execution_count": 43,
   "id": "d0954f30-31d7-4736-83ba-a1fa9634c0ea",
   "metadata": {},
   "outputs": [
    {
     "name": "stdout",
     "output_type": "stream",
     "text": [
      "Best config:  {'batch_size': 8, 'lr': 0.0020819405302203013, 'epochs': 50, 'hidden_dim': 64, 'embedding_dim': 16, 'beta': 0.00023419468040893643}\n",
      "Best trial train loss: 0.7662036932384736\n",
      "Best trial test loss: 0.7827879352183112\n"
     ]
    }
   ],
   "source": [
    "# Fetch the best configuration\n",
    "best_config = analysis.get_best_config(metric=\"test_disparity\", mode=\"min\")\n",
    "print(\"Best config: \", best_config)\n",
    "\n",
    "# Get the best trial corresponding to the best config\n",
    "best_trial = analysis.get_best_trial(metric=\"test_disparity\", mode=\"min\")\n",
    "\n",
    "# Retrieve the final losses from the best trial\n",
    "best_train_loss = best_trial.last_result[\"train_disparity\"]\n",
    "best_test_loss = best_trial.last_result[\"test_disparity\"]\n",
    "\n",
    "print(f\"Best trial train loss: {best_train_loss}\")\n",
    "print(f\"Best trial test loss: {best_test_loss}\")"
   ]
  },
  {
   "cell_type": "markdown",
   "id": "b77f8894-8246-4188-9747-c80317d32636",
   "metadata": {},
   "source": [
    "## Run optimised model"
   ]
  },
  {
   "cell_type": "code",
   "execution_count": 16,
   "id": "d41e3f74-be92-4be0-9449-692e44c3990f",
   "metadata": {},
   "outputs": [],
   "source": [
    "best_config = {'batch_size': 8, 'lr': 0.0020819405302203013, 'epochs': 50, 'hidden_dim': 64, 'embedding_dim': 16, 'beta': 0.00023419468040893643}"
   ]
  },
  {
   "cell_type": "code",
   "execution_count": null,
   "id": "54e41062-0a88-48d2-90bc-61ee65af8654",
   "metadata": {},
   "outputs": [],
   "source": [
    "num_genes = X_taxonomy_train.shape[1]  # Number of gene features\n",
    "num_pathways = X_pathways_train.shape[1]  # Number of biological pathways\n",
    "\n",
    "presence_absence_matrix = torch.tensor(PA_matrix.values).float()  # Shape: (100, 10)\n",
    "\n",
    "# Hyperparameters\n",
    "BATCH_SIZE = best_config[\"batch_size\"]\n",
    "EPOCHS = 5#best_config[\"epochs\"]  \n",
    "HIDDEN_DIM = best_config['hidden_dim']\n",
    "EMBEDDING_DIM = best_config['embedding_dim']\n",
    "LR = best_config['lr']\n",
    "LOSS_BETA = best_config['beta']\n",
    "  \n",
    "# Initialize the model\n",
    "model = VariationalAutoencoder(num_genes, num_pathways, EMBEDDING_DIM, presence_absence_matrix)\n",
    "optimizer = torch.optim.Adam(model.parameters(), lr=LR)\n",
    "\n",
    "# Data loaders\n",
    "taxonomy_train_loader = torch.utils.data.DataLoader(X_train_taxonomy_tensor, batch_size=BATCH_SIZE, shuffle=False)\n",
    "taxonomy_test_loader = torch.utils.data.DataLoader(X_test_taxonomy_tensor, batch_size=BATCH_SIZE, shuffle=False)\n",
    "\n",
    "pathways_train_loader = torch.utils.data.DataLoader(X_train_pathways_tensor, batch_size=BATCH_SIZE, shuffle=False)\n",
    "pathways_test_loader = torch.utils.data.DataLoader(X_test_pathways_tensor, batch_size=BATCH_SIZE, shuffle=False)\n",
    "\n",
    "history = []\n",
    "for epoch in range(EPOCHS):\n",
    "\n",
    "    model.train()\n",
    "    overall_loss = 0.0\n",
    "    train_steps = 0.0\n",
    "    train_disparity = 0.0\n",
    "    \n",
    "    for xT, xP in zip(taxonomy_train_loader, pathways_train_loader):\n",
    "\n",
    "        xT = xT.to(DEVICE);  xP = xP.to(DEVICE)\n",
    "\n",
    "        optimizer.zero_grad()\n",
    "\n",
    "        reconstruction, mu, logvar, z = model(xT, xP)\n",
    "        _, _, _, z_val = model(X_val_taxonomy_tensor, X_val_pathways_tensor)\n",
    "        downstream_history = RunDownstream(z_val, metadata_val)\n",
    "        \n",
    "        loss = loss_function(xT, reconstruction, mu, logvar, LOSS_BETA)\n",
    "            \n",
    "        disparity = calculate_disparity(reconstruction, xT)\n",
    "\n",
    "        overall_loss += loss.item()\n",
    "        train_steps += 1\n",
    "        train_disparity += disparity\n",
    "\n",
    "        loss.backward()\n",
    "        optimizer.step()\n",
    "\n",
    "    model.eval()\n",
    "    test_loss = 0\n",
    "    test_steps = 0.0\n",
    "    test_disparity = 0.0\n",
    "    with torch.no_grad():\n",
    "        for xT, xP in zip(taxonomy_test_loader, pathways_test_loader):\n",
    "            xT = xT.to(DEVICE);  xP = xP.to(DEVICE)\n",
    "\n",
    "            reconstruction, mu, logvar, z = model(xT, xP)\n",
    "            loss = loss_function(xT, reconstruction, mu, logvar, LOSS_BETA)\n",
    "            \n",
    "            # add downstream with latent\n",
    "            _, _, _, z_val = model(X_val_taxonomy_tensor, X_val_pathways_tensor)\n",
    "\n",
    "            disparity = calculate_disparity(reconstruction, xT)\n",
    "\n",
    "            test_loss += loss.item()\n",
    "            test_steps += 1\n",
    "            test_disparity += disparity\n",
    "\n",
    "\n",
    "    avg_train_loss = overall_loss / train_steps\n",
    "    avg_test_loss = test_loss / test_steps\n",
    "    avg_train_disparity = train_disparity / train_steps\n",
    "    avg_test_disparity = test_disparity / test_steps\n",
    "    \n",
    "    history.append({'epoch': epoch,\n",
    "                    'train_loss': avg_train_loss,\n",
    "                    'train_disparity':avg_train_disparity,\n",
    "                    'test_loss': avg_test_loss,\n",
    "                    'test_disparity':avg_test_disparity})"
   ]
  },
  {
   "cell_type": "code",
   "execution_count": null,
   "id": "027fff5d-ea61-43ec-af83-cd055d6b9ad7",
   "metadata": {},
   "outputs": [],
   "source": []
  },
  {
   "cell_type": "code",
   "execution_count": null,
   "id": "e396ea9f-fddf-4328-a282-626495ea818f",
   "metadata": {},
   "outputs": [],
   "source": [
    "downstream_history_test"
   ]
  },
  {
   "cell_type": "code",
   "execution_count": null,
   "id": "6997edc1-162f-40ab-8f94-063affb81417",
   "metadata": {},
   "outputs": [],
   "source": [
    "history_df = pd.DataFrame(history)"
   ]
  },
  {
   "cell_type": "code",
   "execution_count": 160,
   "id": "3edbe63e-7bcb-4fab-8073-7fbe9bec254d",
   "metadata": {},
   "outputs": [
    {
     "data": {
      "text/plain": [
       "[<matplotlib.lines.Line2D at 0x7fea9c0022e8>]"
      ]
     },
     "execution_count": 160,
     "metadata": {},
     "output_type": "execute_result"
    },
    {
     "data": {
      "image/png": "[encoded data removed]",
      "text/plain": [
       "<Figure size 432x288 with 1 Axes>"
      ]
     },
     "metadata": {
      "needs_background": "light"
     },
     "output_type": "display_data"
    }
   ],
   "source": [
    "plt.plot(history_df.train_loss, label='train')\n",
    "plt.plot(history_df.test_loss, label = 'test')"
   ]
  },
  {
   "cell_type": "code",
   "execution_count": 158,
   "id": "72e19466-e431-46fe-8432-0447401b7e1c",
   "metadata": {},
   "outputs": [
    {
     "data": {
      "text/plain": [
       "[<matplotlib.lines.Line2D at 0x7feaadf6f4e0>]"
      ]
     },
     "execution_count": 158,
     "metadata": {},
     "output_type": "execute_result"
    },
    {
     "data": {
      "image/png": "[encoded data removed]",
      "text/plain": [
       "<Figure size 432x288 with 1 Axes>"
      ]
     },
     "metadata": {
      "needs_background": "light"
     },
     "output_type": "display_data"
    }
   ],
   "source": [
    "plt.plot(history_df.train_disparity, label='train')\n",
    "plt.plot(history_df.test_disparity, label = 'test')"
   ]
  },
  {
   "cell_type": "code",
   "execution_count": 50,
   "id": "b89de97d-f86c-4faf-b9a2-193227a6ea5d",
   "metadata": {},
   "outputs": [],
   "source": [
    "latent = model(X_test_taxonomy_tensor, X_test_pathways_tensor)[-1].detach().numpy()\n",
    "reconstruction = model(X_test_taxonomy_tensor, X_test_pathways_tensor)[0].detach().numpy()"
   ]
  },
  {
   "cell_type": "code",
   "execution_count": 53,
   "id": "847ee71b-ba8b-4708-8e4f-2eeef94301d4",
   "metadata": {},
   "outputs": [],
   "source": [
    "reconstruction_inv = pd.DataFrame(np.apply_along_axis(inv_phylogeny_transform_data, 1, reconstruction, U=U, S=S), columns = X_taxonomy_test.columns, index = X_taxonomy_test.index)\n",
    "true_inv = pd.DataFrame(np.apply_along_axis(inv_phylogeny_transform_data, 1, X_test_taxonomy_tensor.detach().numpy(), U=U, S=S), columns = X_taxonomy_test.columns, index = X_taxonomy_test.index)\n",
    "true_inv[true_inv<0]=0\n",
    "reconstruction_inv[reconstruction_inv<0]=0"
   ]
  },
  {
   "cell_type": "code",
   "execution_count": 54,
   "id": "2e6ec13e-9252-4b2e-968e-682f1eaf6825",
   "metadata": {},
   "outputs": [
    {
     "data": {
      "text/plain": [
       "Text(0.5, 1.0, '0.07565798496718454')"
      ]
     },
     "execution_count": 54,
     "metadata": {},
     "output_type": "execute_result"
    },
    {
     "data": {
      "image/png": "[encoded data removed]",
      "text/plain": [
       "<Figure size 432x288 with 1 Axes>"
      ]
     },
     "metadata": {
      "needs_background": "light"
     },
     "output_type": "display_data"
    }
   ],
   "source": [
    "pcoa1 = pcoa(squareform(pdist(true_inv))).samples; # True\n",
    "pcoa2 = pcoa(squareform(pdist(reconstruction_inv))).samples;  # Reconstruction\n",
    "\n",
    "Tmtx1, Tmtx2, Tdisp = procrustes(pcoa1.iloc[:, :2], pcoa2.iloc[:, :2])\n",
    "\n",
    "sns.scatterplot(x = Tmtx2[:, 0], y = Tmtx2[:, 1], label = 'pred')\n",
    "sns.scatterplot(x = Tmtx1[:, 0], y = Tmtx1[:, 1], label = 'true')\n",
    "plt.title(Tdisp)"
   ]
  },
  {
   "cell_type": "code",
   "execution_count": 55,
   "id": "5e66aa14-ecda-4f52-adcd-73870ad1efc1",
   "metadata": {},
   "outputs": [
    {
     "data": {
      "text/plain": [
       "<AxesSubplot:xlabel='PC1', ylabel='PC2'>"
      ]
     },
     "execution_count": 55,
     "metadata": {},
     "output_type": "execute_result"
    },
    {
     "data": {
      "image/png": "[encoded data removed]",
      "text/plain": [
       "<Figure size 432x288 with 1 Axes>"
      ]
     },
     "metadata": {
      "needs_background": "light"
     },
     "output_type": "display_data"
    }
   ],
   "source": [
    "X_test_rec_df = pd.DataFrame(reconstruction_inv)\n",
    "X_test_rec_df['data'] = 'rec'\n",
    "\n",
    "X_test_df = pd.DataFrame(true_inv)\n",
    "X_test_df['data'] = 'true'\n",
    "\n",
    "taxonomy_df = pd.concat([X_test_rec_df, X_test_df], axis=0)\n",
    "taxonomy_pcoa = pcoa(squareform(pdist(taxonomy_df.set_index('data'), 'euclidean'))).samples\n",
    "sns.scatterplot(x = taxonomy_pcoa.PC1, y=taxonomy_pcoa.PC2, palette = 'Set1', s=50, legend=True, edgecolor='k', hue =taxonomy_df['data'].values)"
   ]
  },
  {
   "cell_type": "code",
   "execution_count": 56,
   "id": "802792c8-ef58-4443-9cb8-ec256664d85d",
   "metadata": {},
   "outputs": [
    {
     "data": {
      "text/plain": [
       "<AxesSubplot:>"
      ]
     },
     "execution_count": 56,
     "metadata": {},
     "output_type": "execute_result"
    },
    {
     "data": {
      "image/png": "[encoded data removed]",
      "text/plain": [
       "<Figure size 432x288 with 2 Axes>"
      ]
     },
     "metadata": {
      "needs_background": "light"
     },
     "output_type": "display_data"
    }
   ],
   "source": [
    "sns.heatmap(pd.DataFrame(latent).corr(), cmap = 'coolwarm', annot=True)"
   ]
  }
 ],
 "metadata": {
  "kernelspec": {
   "display_name": "pytorch_env",
   "language": "python",
   "name": "pytorch_env"
  },
  "language_info": {
   "codemirror_mode": {
    "name": "ipython",
    "version": 3
   },
   "file_extension": ".py",
   "mimetype": "text/x-python",
   "name": "python",
   "nbconvert_exporter": "python",
   "pygments_lexer": "ipython3",
   "version": "3.6.15"
  }
 },
 "nbformat": 4,
 "nbformat_minor": 5
}
