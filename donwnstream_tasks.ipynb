{
 "cells": [
  {
   "cell_type": "code",
   "execution_count": 1,
   "id": "01bc2589-a139-4b81-af37-2fbd60172656",
   "metadata": {},
   "outputs": [
    {
     "name": "stderr",
     "output_type": "stream",
     "text": [
      "/Users/zkarwowska/anaconda3/envs/pytorch_env/lib/python3.6/site-packages/tqdm/auto.py:22: TqdmWarning: IProgress not found. Please update jupyter and ipywidgets. See https://ipywidgets.readthedocs.io/en/stable/user_install.html\n",
      "  from .autonotebook import tqdm as notebook_tqdm\n"
     ]
    }
   ],
   "source": [
    "import pandas as pd\n",
    "import matplotlib.pyplot as plt\n",
    "import seaborn as sns\n",
    "from collections import Counter\n",
    "\n",
    "import torch\n",
    "import torch.nn as nn\n",
    "import torch.optim as optim\n",
    "from sklearn.model_selection import train_test_split\n",
    "from sklearn.metrics import mean_squared_error\n",
    "import numpy as np\n",
    "from ray import tune\n",
    "from ray.tune import CLIReporter\n",
    "from ray.tune.schedulers import ASHAScheduler\n",
    "from ray import train, tune\n",
    "from ray.tune import ResultGrid"
   ]
  },
  {
   "cell_type": "code",
   "execution_count": 2,
   "id": "14f6a927-2dee-4b5e-ba87-444d70de2031",
   "metadata": {},
   "outputs": [
    {
     "data": {
      "text/plain": [
       "<torch.utils.tensorboard.writer.SummaryWriter at 0x7f84c84cb128>"
      ]
     },
     "execution_count": 2,
     "metadata": {},
     "output_type": "execute_result"
    }
   ],
   "source": [
    "from torch.utils.tensorboard import SummaryWriter\n",
    "writer = SummaryWriter()\n",
    "writer"
   ]
  },
  {
   "cell_type": "code",
   "execution_count": 4,
   "id": "b08d1db6-6fbc-42ca-a881-728f309fdd5f",
   "metadata": {},
   "outputs": [
    {
     "data": {
      "text/html": [
       "\n",
       "      <iframe id=\"tensorboard-frame-5e10a3eb90a314d2\" width=\"100%\" height=\"800\" frameborder=\"0\">\n",
       "      </iframe>\n",
       "      <script>\n",
       "        (function() {\n",
       "          const frame = document.getElementById(\"tensorboard-frame-5e10a3eb90a314d2\");\n",
       "          const url = new URL(\"/\", window.location);\n",
       "          const port = 6006;\n",
       "          if (port) {\n",
       "            url.port = port;\n",
       "          }\n",
       "          frame.src = url;\n",
       "        })();\n",
       "      </script>\n",
       "    "
      ],
      "text/plain": [
       "<IPython.core.display.HTML object>"
      ]
     },
     "metadata": {},
     "output_type": "display_data"
    }
   ],
   "source": [
    "%reload_ext tensorboard\n",
    "%tensorboard --logdir runs\n"
   ]
  },
  {
   "cell_type": "code",
   "execution_count": 2,
   "id": "98466328-9b0e-4c0a-944e-bb3c455502a1",
   "metadata": {},
   "outputs": [
    {
     "name": "stdout",
     "output_type": "stream",
     "text": [
      "/Users/zkarwowska/TomaszLab Dropbox/Zuzanna Karwowsk/My Mac (zkarwowska’s MacBook Pro)/Desktop/microbiome_gpt\n"
     ]
    }
   ],
   "source": [
    "%cd .."
   ]
  },
  {
   "cell_type": "code",
   "execution_count": 3,
   "id": "2bf5c238-c833-4b6d-b7c8-215ec0b3b1ff",
   "metadata": {},
   "outputs": [],
   "source": [
    "DEVICE = (\n",
    "    \"cuda\"\n",
    "    if torch.cuda.is_available()\n",
    "    else \"cpu\"\n",
    ")"
   ]
  },
  {
   "cell_type": "code",
   "execution_count": 4,
   "id": "206ac24e-a0e1-4e84-a56e-9fedf99f223c",
   "metadata": {},
   "outputs": [],
   "source": [
    "taxonomy = pd.read_csv('inputs/taxonomy.csv', index_col= [0], low_memory=False).fillna(0).sort_index()\n",
    "metadata = pd.read_csv('inputs/metadata.csv', index_col= [0], low_memory=False).sort_index()\n",
    "\n",
    "metadata['SICK'] = np.where(metadata.disease == 'healthy', 0, 1)"
   ]
  },
  {
   "cell_type": "code",
   "execution_count": 5,
   "id": "0d85cfa3-011b-46df-8d2b-c2cdeb10701b",
   "metadata": {},
   "outputs": [],
   "source": [
    "pathways_val1 = pd.read_csv('inputs/HMP_2019_ibdmdb_pathways.csv', index_col= [0], low_memory=False).iloc[:, 2:].sort_index()\n",
    "pathways_val2 = pd.read_csv('inputs/HMP_2019_ibdmdb_pathways_healthy.csv', index_col= [0], low_memory=False).iloc[:, 2:].sort_index()\n",
    "pathways = pd.concat([pathways_val1, pathways_val2], axis=0)\n",
    "\n",
    "\n",
    "metadata_val = metadata[metadata['sample_id'].isin(pathways.index)]\n",
    "val_samples = metadata_val.drop_duplicates(subset = 'subject_id').sample_id\n",
    "\n",
    "taxonomy_val = taxonomy[taxonomy.index.isin(val_samples)]"
   ]
  },
  {
   "cell_type": "code",
   "execution_count": 6,
   "id": "6c296d93-2baf-4888-9ced-18b97e2d2983",
   "metadata": {},
   "outputs": [],
   "source": [
    "data = pd.concat([metadata_val.set_index('sample_id')[['age', 'BMI', 'SICK']], taxonomy_val.iloc[:, :8]], axis=1).dropna()\n",
    "\n",
    "y_age = data.age.values\n",
    "y_bmi = data.BMI.values\n",
    "y_health = data.SICK.values\n",
    "\n",
    "X = data.iloc[:, 3:].values\n",
    "\n",
    "X_train, X_test, y_age_train, y_age_test, y_bmi_train, y_bmi_test, y_health_train, y_health_test = train_test_split(\n",
    "    X, y_age, y_bmi, y_health, test_size=0.3, random_state=42\n",
    ")\n",
    "\n",
    "# Convert to PyTorch tensors\n",
    "X_train = torch.tensor(X_train, dtype=torch.float32)\n",
    "X_test = torch.tensor(X_test, dtype=torch.float32)\n",
    "y_age_train = torch.tensor(y_age_train, dtype=torch.float32).view(-1, 1)\n",
    "y_age_test = torch.tensor(y_age_test, dtype=torch.float32).view(-1, 1)\n",
    "y_bmi_train = torch.tensor(y_bmi_train, dtype=torch.float32).view(-1, 1)\n",
    "y_bmi_test = torch.tensor(y_bmi_test, dtype=torch.float32).view(-1, 1)\n",
    "y_health_train = torch.tensor(y_health_train, dtype=torch.float32).view(-1, 1)\n",
    "y_health_test = torch.tensor(y_health_test, dtype=torch.float32).view(-1, 1)"
   ]
  },
  {
   "cell_type": "code",
   "execution_count": 7,
   "id": "7c135278-c097-4cf2-9ecf-d8e9a1d08da9",
   "metadata": {},
   "outputs": [],
   "source": [
    "# Define a neural network model with multiple outputs\n",
    "class MultiOutputNN(nn.Module):\n",
    "    def __init__(self, input_dim, hidden_units=32, activation=nn.ReLU):\n",
    "        super(MultiOutputNN, self).__init__()\n",
    "        self.fc1 = nn.Linear(input_dim, hidden_units)\n",
    "        self.fc2 = nn.Linear(hidden_units, hidden_units)\n",
    "        \n",
    "        # Output layers for each task\n",
    "        self.fc_age = nn.Linear(hidden_units, 1)  # For predicting age (continuous)\n",
    "        self.fc_bmi = nn.Linear(hidden_units, 1)  # For predicting BMI (continuous)\n",
    "        self.fc_health = nn.Linear(hidden_units, 1)  # For predicting health (binary)\n",
    "\n",
    "        self.activation = activation()\n",
    "        self.sigmoid = nn.Sigmoid()  # For binary output\n",
    "\n",
    "    def forward(self, x):\n",
    "        x = self.activation(self.fc1(x))\n",
    "        x = self.activation(self.fc2(x))\n",
    "        \n",
    "        age_out = self.fc_age(x)\n",
    "        bmi_out = self.fc_bmi(x)\n",
    "        health_out = self.sigmoid(self.fc_health(x))  # Apply sigmoid to binary output\n",
    "\n",
    "        return age_out, bmi_out, health_out"
   ]
  },
  {
   "cell_type": "code",
   "execution_count": 48,
   "id": "7129b373-3f05-40b1-8679-477b77e02c9e",
   "metadata": {},
   "outputs": [],
   "source": [
    "def tune_model(config):\n",
    "            \n",
    "    model = MultiOutputNN(input_dim=X_train.shape[1], hidden_units=config['hidden_units'])\n",
    "    \n",
    "    # Define the loss functions for each output\n",
    "    criterion_age = nn.HuberLoss()\n",
    "    criterion_bmi = nn.HuberLoss()\n",
    "    criterion_health = nn.BCELoss()  \n",
    "\n",
    "    # Define a single optimizer for all parameters\n",
    "    optimizer = optim.Adam(model.parameters(), lr=config['lr'])\n",
    "\n",
    "    \n",
    "    n_epochs = config['epochs']\n",
    "    batch_size = config['batch_size']\n",
    "\n",
    "    # Convert data to DataLoader\n",
    "    train_data = torch.utils.data.TensorDataset(X_train, y_age_train, y_bmi_train, y_health_train)\n",
    "    train_loader = torch.utils.data.DataLoader(dataset=train_data, batch_size=batch_size, shuffle=True)\n",
    "\n",
    "    test_data = torch.utils.data.TensorDataset(X_test, y_age_test, y_bmi_test, y_health_test)\n",
    "    test_loader = torch.utils.data.DataLoader(dataset=test_data, batch_size=batch_size, shuffle=True)\n",
    "\n",
    "\n",
    "    for epoch in range(n_epochs):\n",
    "\n",
    "        model.train()\n",
    "        running_loss_age = 0.0\n",
    "        running_loss_bmi = 0.0\n",
    "        running_loss_health = 0.0\n",
    "        running_total_loss = 0.0\n",
    "        train_steps = 0.0\n",
    "\n",
    "        for batch_X, batch_y_age, batch_y_bmi, batch_y_health in train_loader:\n",
    "\n",
    "            batch_X = batch_X.to(DEVICE)\n",
    "            optimizer.zero_grad()\n",
    "\n",
    "            age_out, bmi_out, health_out = model(batch_X)\n",
    "\n",
    "            loss_age = criterion_age(age_out, batch_y_age)\n",
    "            loss_bmi = criterion_bmi(bmi_out, batch_y_bmi)\n",
    "            loss_health = criterion_health(health_out, batch_y_health)\n",
    "\n",
    "            # Dynamically scale the losses\n",
    "            scale_age = 1.0 / (loss_age.item() + 1e-8)  # Add a small value to prevent division by zero\n",
    "            scale_bmi = 1.0 / (loss_bmi.item() + 1e-8)\n",
    "            scale_health = 1.0 / (loss_health.item() + 1e-8)\n",
    "\n",
    "            # Combine losses with dynamic scaling\n",
    "            loss = (scale_age * loss_age + scale_bmi * loss_bmi + scale_health * loss_health) / (scale_age + scale_bmi + scale_health)\n",
    "\n",
    "            loss.backward()  # Backward pass\n",
    "            optimizer.step()  # Update weights\n",
    "\n",
    "            running_loss_age += loss_age.item()\n",
    "            running_loss_bmi += loss_bmi.item()\n",
    "            running_loss_health += loss_health.item()\n",
    "            running_total_loss += loss.item()\n",
    "            \n",
    "            train_steps += 1\n",
    "\n",
    "        model.train()\n",
    "        test_loss_age = 0.0\n",
    "        test_loss_bmi = 0.0\n",
    "        test_loss_health = 0.0\n",
    "        test_total_loss = 0.0\n",
    "        test_steps = 0.0    \n",
    "        with torch.no_grad():\n",
    "            for batch_X, batch_y_age, batch_y_bmi, batch_y_health in test_loader:\n",
    "\n",
    "                batch_X = batch_X.to(DEVICE)\n",
    "                age_out, bmi_out, health_out = model(batch_X)\n",
    "\n",
    "                loss_age = criterion_age(age_out, batch_y_age)\n",
    "                loss_bmi = criterion_bmi(bmi_out, batch_y_bmi)\n",
    "                loss_health = criterion_health(health_out, batch_y_health)\n",
    "                \n",
    "                # Dynamically scale the losses\n",
    "                scale_age = 1.0 / (loss_age.item() + 1e-8)  # Add a small value to prevent division by zero\n",
    "                scale_bmi = 1.0 / (loss_bmi.item() + 1e-8)\n",
    "                scale_health = 1.0 / (loss_health.item() + 1e-8)\n",
    "\n",
    "                # Combine losses with dynamic scaling\n",
    "                loss = (scale_age * loss_age + scale_bmi * loss_bmi + scale_health * loss_health) / (scale_age + scale_bmi + scale_health)\n",
    "\n",
    "                test_loss_age += loss_age.item()\n",
    "                test_loss_bmi += loss_bmi.item()\n",
    "                test_loss_health += loss_health.item()\n",
    "                test_total_loss += loss.item()\n",
    "                test_steps += 1\n",
    "\n",
    "        avg_train_age_loss = running_loss_age / train_steps\n",
    "        avg_train_bmi_loss = running_loss_bmi / train_steps\n",
    "        avg_train_health_loss = running_loss_health / train_steps\n",
    "        avg_train_total_loss = running_total_loss / train_steps\n",
    "\n",
    "        avg_test_age_loss = test_loss_age / test_steps\n",
    "        avg_test_bmi_loss = test_loss_bmi / test_steps\n",
    "        avg_test_health_loss = test_loss_health / test_steps\n",
    "        avg_test_total_loss = test_total_loss / test_steps\n",
    "\n",
    "        \n",
    "        tune.report(train_age_loss=avg_train_age_loss, \n",
    "                    train_bmi_loss=avg_train_bmi_loss,\n",
    "                    train_health_loss = avg_train_health_loss,\n",
    "                    train_total_loss=running_total_loss,\n",
    "                    test_age_loss = avg_test_age_loss,\n",
    "                    test_bmi_loss = avg_test_bmi_loss,\n",
    "                    test_health_loss = avg_test_health_loss,\n",
    "                    test_total_loss = avg_test_total_loss)"
   ]
  },
  {
   "cell_type": "code",
   "execution_count": 60,
   "id": "de7a2c74-0adc-407d-881d-3111d90a6428",
   "metadata": {},
   "outputs": [
    {
     "data": {
      "text/html": [],
      "text/plain": [
       "<IPython.core.display.HTML object>"
      ]
     },
     "metadata": {},
     "output_type": "display_data"
    }
   ],
   "source": [
    "# Hyperparameter space to search over\n",
    "config = {\n",
    "    \"batch_size\": tune.choice([8, 16, 32, 64]),\n",
    "    \"lr\": tune.loguniform(1e-4, 1e-1),\n",
    "    \"epochs\":tune.choice([50]),\n",
    "    \"hidden_units\":tune.choice([128, 64, 32, 16, 8])\n",
    "}\n",
    "\n",
    "# Running the Ray Tune experiment with metric and mode\n",
    "analysis = tune.run(\n",
    "    tune_model,\n",
    "    config=config,\n",
    "    num_samples=20,  # Number of samples to try\n",
    "    resources_per_trial={\"cpu\": 2, \"gpu\": 0},  # Adjust based on your environment\n",
    "    local_dir=\"ray_results\",  # Directory where results will be saved\n",
    "    metric=\"test_total_loss\",  # Metric to optimize\n",
    "    mode=\"min\",  # Minimize the test loss\n",
    "    verbose=0\n",
    ")"
   ]
  },
  {
   "cell_type": "code",
   "execution_count": 61,
   "id": "d2fa41b6-b6ba-4129-9c22-6e97ff0c94bc",
   "metadata": {},
   "outputs": [
    {
     "name": "stdout",
     "output_type": "stream",
     "text": [
      "Best Config:  {'batch_size': 64, 'lr': 0.02716362205850574, 'epochs': 50, 'hidden_units': 16}\n",
      "Best age loss: 179.50927734375\n",
      "Best bmi loss: 752.7068481445312\n",
      "Best health loss: 4.454413890838623\n"
     ]
    }
   ],
   "source": [
    "# Get the best configuration found during tuning\n",
    "best_config = analysis.get_best_config(metric=\"train_total_loss\", mode=\"min\")\n",
    "print(\"Best Config: \", best_config)\n",
    "\n",
    "# Get the best trial corresponding to the best config\n",
    "best_trial = analysis.get_best_trial(metric=\"train_total_loss\", mode=\"min\")\n",
    "\n",
    "# Retrieve the final losses from the best trial\n",
    "best_age_loss = best_trial.last_result[\"test_age_loss\"]\n",
    "best_bmi_loss = best_trial.last_result[\"test_bmi_loss\"]\n",
    "best_health_loss = best_trial.last_result[\"test_health_loss\"]\n",
    "\n",
    "print(f\"Best age loss: {best_age_loss}\")\n",
    "print(f\"Best bmi loss: {best_bmi_loss}\")\n",
    "print(f\"Best health loss: {best_health_loss}\")"
   ]
  },
  {
   "cell_type": "code",
   "execution_count": 62,
   "id": "47881cce-f594-4789-a9d4-9015d157a93a",
   "metadata": {},
   "outputs": [],
   "source": [
    "def run_model(config=best_config):\n",
    "            \n",
    "    model = MultiOutputNN(input_dim=X_train.shape[1], hidden_units=config['hidden_units'])\n",
    "    \n",
    "    # Define the loss functions for each output\n",
    "    criterion_age = nn.HuberLoss()\n",
    "    criterion_bmi = nn.HuberLoss()\n",
    "    criterion_health = nn.BCELoss()  \n",
    "\n",
    "    # Define a single optimizer for all parameters\n",
    "    optimizer = optim.Adam(model.parameters(), lr=config['lr'])\n",
    "\n",
    "    \n",
    "    n_epochs = config['epochs']\n",
    "    batch_size = config['batch_size']\n",
    "\n",
    "    # Convert data to DataLoader\n",
    "    train_data = torch.utils.data.TensorDataset(X_train, y_age_train, y_bmi_train, y_health_train)\n",
    "    train_loader = torch.utils.data.DataLoader(dataset=train_data, batch_size=batch_size, shuffle=True)\n",
    "\n",
    "    test_data = torch.utils.data.TensorDataset(X_test, y_age_test, y_bmi_test, y_health_test)\n",
    "    test_loader = torch.utils.data.DataLoader(dataset=test_data, batch_size=batch_size, shuffle=True)\n",
    "\n",
    "    results = []\n",
    "    for epoch in range(n_epochs):\n",
    "\n",
    "        model.train()\n",
    "        running_loss_age = 0.0\n",
    "        running_loss_bmi = 0.0\n",
    "        running_loss_health = 0.0\n",
    "        running_total_loss = 0.0\n",
    "        train_steps = 0.0\n",
    "\n",
    "        for batch_X, batch_y_age, batch_y_bmi, batch_y_health in train_loader:\n",
    "\n",
    "            batch_X = batch_X.to(DEVICE)\n",
    "            optimizer.zero_grad()\n",
    "\n",
    "            age_out, bmi_out, health_out = model(batch_X)\n",
    "\n",
    "            loss_age = criterion_age(age_out, batch_y_age)\n",
    "            loss_bmi = criterion_bmi(bmi_out, batch_y_bmi)\n",
    "            loss_health = criterion_health(health_out, batch_y_health)\n",
    "\n",
    "            # Dynamically scale the losses\n",
    "            scale_age = 1.0 / (loss_age.item() + 1e-8)  # Add a small value to prevent division by zero\n",
    "            scale_bmi = 1.0 / (loss_bmi.item() + 1e-8)\n",
    "            scale_health = 1.0 / (loss_health.item() + 1e-8)\n",
    "\n",
    "            # Combine losses with dynamic scaling\n",
    "            loss = (scale_age * loss_age + scale_bmi * loss_bmi + scale_health * loss_health) / (scale_age + scale_bmi + scale_health)\n",
    "\n",
    "            loss.backward()  # Backward pass\n",
    "            optimizer.step()  # Update weights\n",
    "\n",
    "            running_loss_age += loss_age.item()\n",
    "            running_loss_bmi += loss_bmi.item()\n",
    "            running_loss_health += loss_health.item()\n",
    "            running_total_loss += loss.item()\n",
    "            \n",
    "            train_steps += 1\n",
    "\n",
    "        model.train()\n",
    "        test_loss_age = 0.0\n",
    "        test_loss_bmi = 0.0\n",
    "        test_loss_health = 0.0\n",
    "        test_total_loss = 0.0 \n",
    "        test_steps = 0.0    \n",
    "        with torch.no_grad():\n",
    "            for batch_X, batch_y_age, batch_y_bmi, batch_y_health in test_loader:\n",
    "\n",
    "                batch_X = batch_X.to(DEVICE)\n",
    "                age_out, bmi_out, health_out = model(batch_X)\n",
    "\n",
    "                loss_age = criterion_age(age_out, batch_y_age)\n",
    "                loss_bmi = criterion_bmi(bmi_out, batch_y_bmi)\n",
    "                loss_health = criterion_health(health_out, batch_y_health)\n",
    "                \n",
    "                # Dynamically scale the losses\n",
    "                scale_age = 1.0 / (loss_age.item() + 1e-8)  # Add a small value to prevent division by zero\n",
    "                scale_bmi = 1.0 / (loss_bmi.item() + 1e-8)\n",
    "                scale_health = 1.0 / (loss_health.item() + 1e-8)\n",
    "\n",
    "                # Combine losses with dynamic scaling\n",
    "                loss = (scale_age * loss_age + scale_bmi * loss_bmi + scale_health * loss_health) / (scale_age + scale_bmi + scale_health)\n",
    "\n",
    "\n",
    "                test_loss_age += loss_age.item()\n",
    "                test_loss_bmi += loss_bmi.item()\n",
    "                test_loss_health += loss_health.item()\n",
    "                test_total_loss += loss.item()\n",
    "\n",
    "                test_steps += 1\n",
    "\n",
    "        avg_train_age_loss = running_loss_age / train_steps\n",
    "        avg_train_bmi_loss = running_loss_bmi / train_steps\n",
    "        avg_train_health_loss = running_loss_health / train_steps\n",
    "        avg_train_total_loss = running_total_loss / train_steps\n",
    "\n",
    "        avg_test_age_loss = test_loss_age / test_steps\n",
    "        avg_test_bmi_loss = test_loss_bmi / test_steps\n",
    "        avg_test_health_loss = test_loss_health / test_steps\n",
    "        avg_test_total_loss = test_total_loss / test_steps\n",
    "\n",
    "        \n",
    "        results.append({'epoch':epoch,\n",
    "                        'train_age_loss' : avg_train_age_loss, \n",
    "                        'train_bmi_loss' : avg_train_bmi_loss,\n",
    "                        'train_health_loss' : avg_train_health_loss,\n",
    "                        'train_total_loss' : avg_train_total_loss,\n",
    "                        'test_age_loss' : avg_test_age_loss,\n",
    "                        'test_bmi_loss' : avg_test_bmi_loss,\n",
    "                        'test_health_loss' : avg_test_health_loss,\n",
    "                        'test_total_loss' : avg_test_total_loss\n",
    "                       })\n",
    "        \n",
    "    return pd.DataFrame(results)"
   ]
  },
  {
   "cell_type": "code",
   "execution_count": 63,
   "id": "80462639-551f-4cae-9134-99799e378abb",
   "metadata": {},
   "outputs": [],
   "source": [
    "history = run_model()"
   ]
  },
  {
   "cell_type": "code",
   "execution_count": 66,
   "id": "5c3798d9-6b58-484d-a396-c07b340bce4c",
   "metadata": {},
   "outputs": [
    {
     "data": {
      "text/html": [
       "<div>\n",
       "<style scoped>\n",
       "    .dataframe tbody tr th:only-of-type {\n",
       "        vertical-align: middle;\n",
       "    }\n",
       "\n",
       "    .dataframe tbody tr th {\n",
       "        vertical-align: top;\n",
       "    }\n",
       "\n",
       "    .dataframe thead th {\n",
       "        text-align: right;\n",
       "    }\n",
       "</style>\n",
       "<table border=\"1\" class=\"dataframe\">\n",
       "  <thead>\n",
       "    <tr style=\"text-align: right;\">\n",
       "      <th></th>\n",
       "      <th>epoch</th>\n",
       "      <th>train_age_loss</th>\n",
       "      <th>train_bmi_loss</th>\n",
       "      <th>train_health_loss</th>\n",
       "      <th>train_total_loss</th>\n",
       "      <th>test_age_loss</th>\n",
       "      <th>test_bmi_loss</th>\n",
       "      <th>test_health_loss</th>\n",
       "      <th>test_total_loss</th>\n",
       "    </tr>\n",
       "  </thead>\n",
       "  <tbody>\n",
       "    <tr>\n",
       "      <th>0</th>\n",
       "      <td>0</td>\n",
       "      <td>208859.984375</td>\n",
       "      <td>22375.933594</td>\n",
       "      <td>26.326483</td>\n",
       "      <td>78.876701</td>\n",
       "      <td>145050.750000</td>\n",
       "      <td>172961.812500</td>\n",
       "      <td>20.0</td>\n",
       "      <td>59.984795</td>\n",
       "    </tr>\n",
       "    <tr>\n",
       "      <th>1</th>\n",
       "      <td>1</td>\n",
       "      <td>112888.148438</td>\n",
       "      <td>146570.437500</td>\n",
       "      <td>26.325340</td>\n",
       "      <td>78.943428</td>\n",
       "      <td>23885.890625</td>\n",
       "      <td>166885.234375</td>\n",
       "      <td>20.0</td>\n",
       "      <td>59.942623</td>\n",
       "    </tr>\n",
       "    <tr>\n",
       "      <th>2</th>\n",
       "      <td>2</td>\n",
       "      <td>55543.253906</td>\n",
       "      <td>150743.421875</td>\n",
       "      <td>26.324348</td>\n",
       "      <td>78.921860</td>\n",
       "      <td>91086.656250</td>\n",
       "      <td>118650.320312</td>\n",
       "      <td>20.0</td>\n",
       "      <td>59.976723</td>\n",
       "    </tr>\n",
       "    <tr>\n",
       "      <th>3</th>\n",
       "      <td>3</td>\n",
       "      <td>89261.664062</td>\n",
       "      <td>107213.578125</td>\n",
       "      <td>26.323359</td>\n",
       "      <td>78.927422</td>\n",
       "      <td>104601.359375</td>\n",
       "      <td>67840.382812</td>\n",
       "      <td>20.0</td>\n",
       "      <td>59.970852</td>\n",
       "    </tr>\n",
       "    <tr>\n",
       "      <th>4</th>\n",
       "      <td>4</td>\n",
       "      <td>86176.234375</td>\n",
       "      <td>57756.789062</td>\n",
       "      <td>26.322376</td>\n",
       "      <td>78.907066</td>\n",
       "      <td>96406.960938</td>\n",
       "      <td>12559.482422</td>\n",
       "      <td>20.0</td>\n",
       "      <td>59.892204</td>\n",
       "    </tr>\n",
       "  </tbody>\n",
       "</table>\n",
       "</div>"
      ],
      "text/plain": [
       "   epoch  train_age_loss  train_bmi_loss  train_health_loss  train_total_loss  \\\n",
       "0      0   208859.984375    22375.933594          26.326483         78.876701   \n",
       "1      1   112888.148438   146570.437500          26.325340         78.943428   \n",
       "2      2    55543.253906   150743.421875          26.324348         78.921860   \n",
       "3      3    89261.664062   107213.578125          26.323359         78.927422   \n",
       "4      4    86176.234375    57756.789062          26.322376         78.907066   \n",
       "\n",
       "   test_age_loss  test_bmi_loss  test_health_loss  test_total_loss  \n",
       "0  145050.750000  172961.812500              20.0        59.984795  \n",
       "1   23885.890625  166885.234375              20.0        59.942623  \n",
       "2   91086.656250  118650.320312              20.0        59.976723  \n",
       "3  104601.359375   67840.382812              20.0        59.970852  \n",
       "4   96406.960938   12559.482422              20.0        59.892204  "
      ]
     },
     "execution_count": 66,
     "metadata": {},
     "output_type": "execute_result"
    }
   ],
   "source": [
    "history.head()"
   ]
  },
  {
   "cell_type": "code",
   "execution_count": 64,
   "id": "598286a2-27b9-4114-b7b1-268f37367ddb",
   "metadata": {},
   "outputs": [
    {
     "data": {
      "text/plain": [
       "<AxesSubplot:xlabel='epoch', ylabel='train_total_loss'>"
      ]
     },
     "execution_count": 64,
     "metadata": {},
     "output_type": "execute_result"
    },
    {
     "data": {
      "image/png": "[encoded data removed]",
      "text/plain": [
       "<Figure size 432x288 with 1 Axes>"
      ]
     },
     "metadata": {
      "needs_background": "light"
     },
     "output_type": "display_data"
    }
   ],
   "source": [
    "sns.lineplot(x = history.epoch, y = history.train_total_loss)\n",
    "sns.lineplot(x = history.epoch, y = history.test_total_loss)"
   ]
  },
  {
   "cell_type": "code",
   "execution_count": 68,
   "id": "1d4309a6-29de-43bf-80ff-cf04376b4502",
   "metadata": {},
   "outputs": [
    {
     "data": {
      "text/plain": [
       "<AxesSubplot:xlabel='epoch', ylabel='train_bmi_loss'>"
      ]
     },
     "execution_count": 68,
     "metadata": {},
     "output_type": "execute_result"
    },
    {
     "data": {
      "image/png": "[encoded data removed]",
      "text/plain": [
       "<Figure size 432x288 with 1 Axes>"
      ]
     },
     "metadata": {
      "needs_background": "light"
     },
     "output_type": "display_data"
    }
   ],
   "source": [
    "sns.lineplot(x = history.epoch, y = history.train_bmi_loss)\n",
    "sns.lineplot(x = history.epoch, y = history.test_bmi_loss)"
   ]
  }
 ],
 "metadata": {
  "kernelspec": {
   "display_name": "pytorch_env",
   "language": "python",
   "name": "pytorch_env"
  },
  "language_info": {
   "codemirror_mode": {
    "name": "ipython",
    "version": 3
   },
   "file_extension": ".py",
   "mimetype": "text/x-python",
   "name": "python",
   "nbconvert_exporter": "python",
   "pygments_lexer": "ipython3",
   "version": "3.6.15"
  }
 },
 "nbformat": 4,
 "nbformat_minor": 5
}
