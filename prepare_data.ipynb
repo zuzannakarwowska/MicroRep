{
 "cells": [
  {
   "cell_type": "code",
   "execution_count": 1,
   "id": "7d9c9f59-0c4c-4506-95c2-6f128b68b610",
   "metadata": {},
   "outputs": [],
   "source": [
    "import pandas as pd\n",
    "import numpy as np\n",
    "import seaborn as sns\n",
    "import glob\n",
    "import matplotlib.pyplot as plt\n",
    "from sklearn.preprocessing import StandardScaler\n",
    "from collections import Counter"
   ]
  },
  {
   "cell_type": "markdown",
   "id": "c2756c8e-5e41-4b3f-bc59-d52e6b09f0c0",
   "metadata": {},
   "source": [
    "## READ DATA"
   ]
  },
  {
   "cell_type": "code",
   "execution_count": 2,
   "id": "a5af3afd-0c69-4fc5-9557-49089eb0516e",
   "metadata": {},
   "outputs": [],
   "source": [
    "taxonomy_files = glob.glob(\"controls/*_taxonomy.csv\") \n",
    "pathways_files = glob.glob(\"controls/*_pathways.csv\") \n",
    "metadata = pd.read_csv('controls/metadata_healthy.csv', index_col = [0], low_memory=False)"
   ]
  },
  {
   "cell_type": "code",
   "execution_count": 28,
   "id": "0aef34c9-672b-4689-9814-0362a6a14123",
   "metadata": {},
   "outputs": [],
   "source": [
    "#metadata = metadata[metadata.age_category == 'adult']"
   ]
  },
  {
   "cell_type": "code",
   "execution_count": 3,
   "id": "aaa9cd86-6576-4d1d-b87c-229392b0c761",
   "metadata": {},
   "outputs": [],
   "source": [
    "### change pathways to unstratify and calculate relative abundance\n",
    "PATHWAYS_DF = pd.DataFrame()\n",
    "\n",
    "for file in pathways_files:\n",
    "    pathways = pd.read_csv(file, index_col = [0])\n",
    "    unstratified_columns = list(filter(lambda col: '|' not in col and 'unclassified' not in col, pathways.columns))\n",
    "    unstratified_pathways = pathways[unstratified_columns]\n",
    "    PATHWAYS_DF = pd.concat([PATHWAYS_DF, unstratified_pathways])\n",
    "\n",
    "PATHWAYS_DF = PATHWAYS_DF.fillna(0)\n",
    "PATHWAYS_DF.to_csv('pathways.csv')"
   ]
  },
  {
   "cell_type": "code",
   "execution_count": 5,
   "id": "fba6f624-6c4f-4954-b069-545e79742918",
   "metadata": {},
   "outputs": [],
   "source": [
    "TAXONOMY_DF = pd.DataFrame()\n",
    "for file in taxonomy_files:\n",
    "    taxonomy_df = pd.read_csv(file, index_col = [0])\n",
    "    TAXONOMY_DF = pd.concat([TAXONOMY_DF, taxonomy_df])\n",
    "\n",
    "TAXONOMY_DF = TAXONOMY_DF.fillna(0)\n",
    "TAXONOMY_DF.to_csv('taxonomy.csv')"
   ]
  },
  {
   "cell_type": "code",
   "execution_count": 73,
   "id": "88e0fce6-1092-4bf2-baab-9885a5c2f73a",
   "metadata": {},
   "outputs": [],
   "source": [
    "# Get overlapping samples between taxonomy, pathways and metadata\n",
    "metadata_ids = set(metadata['sample_id'])\n",
    "taxonomy_ids = set(TAXONOMY_DF.index)\n",
    "pathways_ids = set(PATHWAYS_DF.index)\n",
    "IDS = [metadata_ids, taxonomy_ids, pathways_ids]\n",
    "keep_samples = list(set.intersection(*IDS))"
   ]
  },
  {
   "cell_type": "code",
   "execution_count": 74,
   "id": "4e4913e6-6e77-470e-9751-6d2c027862ea",
   "metadata": {},
   "outputs": [],
   "source": [
    "PATHWAYS_DF = PATHWAYS_DF[PATHWAYS_DF.index.isin(keep_samples)]\n",
    "TAXONOMY_DF = TAXONOMY_DF[TAXONOMY_DF.index.isin(keep_samples)]\n",
    "metadata = metadata[metadata['sample_id'].isin(keep_samples)]\n",
    "\n",
    "offset = metadata[['sample_id', 'number_reads']]"
   ]
  },
  {
   "cell_type": "code",
   "execution_count": 75,
   "id": "515608a5-80ac-4de3-acb5-48d62e2463ca",
   "metadata": {},
   "outputs": [
    {
     "data": {
      "text/plain": [
       "((13112, 628), (13112, 1638), (13112, 141))"
      ]
     },
     "execution_count": 75,
     "metadata": {},
     "output_type": "execute_result"
    }
   ],
   "source": [
    "PATHWAYS_DF.shape, TAXONOMY_DF.shape, metadata.shape"
   ]
  },
  {
   "cell_type": "markdown",
   "id": "4027b4d4-5bb6-4e6d-a23a-5967875c2588",
   "metadata": {},
   "source": [
    "## FILTER FEATURES"
   ]
  },
  {
   "cell_type": "code",
   "execution_count": 103,
   "id": "8c44e0ef-d48f-4f16-aed9-6aae92b2c28e",
   "metadata": {},
   "outputs": [],
   "source": [
    "def filter_prevalence(df, treshold = 0.05):\n",
    "    '''features as columns'''\n",
    "    df_binary = df.copy()\n",
    "    df_binary[df_binary>0]=1\n",
    "    df_binary_sum = df_binary.sum(axis=0)\n",
    "    \n",
    "    keep_features = df_binary_sum[df_binary_sum > df.shape[0]*treshold].index\n",
    "    filtered_df = df[keep_features]\n",
    "    \n",
    "    return filtered_df\n",
    "\n",
    "def filter_on_abundance(df, abundance_treshold = 1e-5):\n",
    "    '''features as columns'''\n",
    "    df_relab = df.div(df.sum(axis=1), axis=0)\n",
    "    df_relab_mean = df_relab.mean()\n",
    "\n",
    "    keep_features = df_relab_mean[df_relab_mean > abundance_treshold].index\n",
    "    filtered_df = df[keep_features]\n",
    "    \n",
    "    return filtered_df"
   ]
  },
  {
   "cell_type": "code",
   "execution_count": 104,
   "id": "2925359a-2ec4-4a29-9f38-7b73baf25460",
   "metadata": {},
   "outputs": [],
   "source": [
    "FILTERED_TAXONOMY = filter_on_abundance(filter_prevalence(TAXONOMY_DF))\n",
    "FILTERED_PATHWAYS = filter_on_abundance(filter_prevalence(PATHWAYS_DF))"
   ]
  },
  {
   "cell_type": "code",
   "execution_count": 105,
   "id": "de48c8f5-dd95-4798-8dc8-8f8fd42688fa",
   "metadata": {},
   "outputs": [
    {
     "data": {
      "text/plain": [
       "((13112, 311), (13112, 253))"
      ]
     },
     "execution_count": 105,
     "metadata": {},
     "output_type": "execute_result"
    }
   ],
   "source": [
    "FILTERED_PATHWAYS.shape, FILTERED_TAXONOMY.shape"
   ]
  },
  {
   "cell_type": "code",
   "execution_count": null,
   "id": "bd2e979c-2907-4081-b8e8-1a32a98ffcb0",
   "metadata": {},
   "outputs": [],
   "source": [
    "FILTERED_PATHWAYS.to_csv('input_data/controls_pathways.csv')\n",
    "FILTERED_TAXONOMY.to_csv('input_data/controls_taxonomy.csv')\n",
    "metadata.to_csv('input_data/controls_metadata.csv')"
   ]
  },
  {
   "cell_type": "markdown",
   "id": "bf372793-44b4-45ee-970e-fb2a2db07c46",
   "metadata": {},
   "source": [
    "## TAXA AND FUNCTION DISTRIBUTION IN POPULATION"
   ]
  },
  {
   "cell_type": "code",
   "execution_count": null,
   "id": "38a886b2-2bbb-41e0-930e-1d2927d9ce2b",
   "metadata": {},
   "outputs": [],
   "source": [
    "taxonomy_binary = FILTERED_TAXONOMY.copy()\n",
    "taxonomy_binary[taxonomy_binary>0]=1\n",
    "\n",
    "pathways_binary = FILTERED_PATHWAYS.copy()\n",
    "pathways_binary[pathways_binary>0]=1\n",
    "\n",
    "fig, axes = plt.subplots(1, 2, figsize = (15, 3))\n",
    "sns.histplot(taxonomy_binary.sum().values, ax=axes[0])\n",
    "sns.histplot(pathways_binary.sum().values, ax=axes[1])\n",
    "\n",
    "plt.suptitle('Numer of subjects where bacteria or patwhays is present')\n",
    "plt.xlabel('n subjects')"
   ]
  },
  {
   "cell_type": "code",
   "execution_count": null,
   "id": "c2bb2764-9627-45bc-a864-82ad0b08b9c0",
   "metadata": {},
   "outputs": [],
   "source": [
    "fig, axes = plt.subplots(1, 2, figsize = (15, 3))\n",
    "sns.histplot(taxonomy_binary.sum(axis=1).values, ax=axes[0])\n",
    "sns.histplot(pathways_binary.sum(axis=1).values, ax=axes[1])\n",
    "\n",
    "plt.suptitle('Number of bacteria or pathways per subject')\n",
    "plt.xlabel('subjects')"
   ]
  }
 ],
 "metadata": {
  "kernelspec": {
   "display_name": "ml_env",
   "language": "python",
   "name": "ml_env"
  },
  "language_info": {
   "codemirror_mode": {
    "name": "ipython",
    "version": 3
   },
   "file_extension": ".py",
   "mimetype": "text/x-python",
   "name": "python",
   "nbconvert_exporter": "python",
   "pygments_lexer": "ipython3",
   "version": "3.12.0"
  }
 },
 "nbformat": 4,
 "nbformat_minor": 5
}
